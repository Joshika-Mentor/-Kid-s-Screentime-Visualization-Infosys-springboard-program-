{
 "cells": [
  {
   "cell_type": "code",
   "execution_count": null,
   "id": "b2c2bf0b",
   "metadata": {
    "vscode": {
     "languageId": "plaintext"
    }
   },
   "outputs": [],
   "source": [
    "import pandas as pd\n",
    "import numpy as np"
   ]
  },
  {
   "cell_type": "code",
   "execution_count": null,
   "id": "a0b3116a",
   "metadata": {
    "vscode": {
     "languageId": "plaintext"
    }
   },
   "outputs": [],
   "source": [
    "from google.colab import drive\n",
    "import pandas as pd\n",
    "\n",
    "# ✅ Mount Google Drive\n",
    "drive.mount('/content/drive')\n",
    "\n",
    "# ✅ Path to your CSV file inside Drive\n",
    "file_path = '/content/drive/MyDrive/Indian_Kids_Screen_Time.csv'\n",
    "\n",
    "# ✅ Read CSV\n",
    "df = pd.read_csv(file_path)"
   ]
  },
  {
   "cell_type": "code",
   "execution_count": null,
   "id": "5aefb8c4",
   "metadata": {
    "vscode": {
     "languageId": "plaintext"
    }
   },
   "outputs": [],
   "source": [
    "print(\"First 5 rows:\\n\", df.head())\n",
    "print(\"\\nLast 5 rows:\\n\", df.tail())\n",
    "print(\"\\nRandom 5 rows:\\n\", df.sample(5))\n"
   ]
  },
  {
   "cell_type": "code",
   "execution_count": null,
   "id": "637fe769",
   "metadata": {
    "vscode": {
     "languageId": "plaintext"
    }
   },
   "outputs": [],
   "source": [
    "print(\"\\nShape (rows, cols):\", df.shape)\n",
    "print(\"\\nColumn Names:\\n\", df.columns)\n",
    "print(\"\\nData Types:\\n\", df.dtypes)\n",
    "print(\"\\nFull Info:\")\n",
    "print(df.info())"
   ]
  },
  {
   "cell_type": "code",
   "execution_count": null,
   "id": "8e48349d",
   "metadata": {
    "vscode": {
     "languageId": "plaintext"
    }
   },
   "outputs": [],
   "source": [
    "# Numeric + categorical summary\n",
    "print(\"\\nSummary Stats:\\n\", df.describe(include=\"all\"))"
   ]
  },
  {
   "cell_type": "code",
   "execution_count": null,
   "id": "c347534c",
   "metadata": {
    "vscode": {
     "languageId": "plaintext"
    }
   },
   "outputs": [],
   "source": [
    "print(\"\\nMean:\\n\", df.mean(numeric_only=True))\n",
    "print(\"\\nMedian:\\n\", df.median(numeric_only=True))\n",
    "print(\"\\nMode:\\n\", df.mode().iloc[0])  # first mode row"
   ]
  },
  {
   "cell_type": "code",
   "execution_count": null,
   "id": "c6df754b",
   "metadata": {
    "vscode": {
     "languageId": "plaintext"
    }
   },
   "outputs": [],
   "source": [
    "print(\"\\nMean:\\n\", df.mean(numeric_only=True))\n",
    "print(\"\\nMedian:\\n\", df.median(numeric_only=True))\n",
    "print(\"\\nMode:\\n\", df.mode().iloc[0])  # first mode row"
   ]
  },
  {
   "cell_type": "code",
   "execution_count": null,
   "id": "30451295",
   "metadata": {
    "vscode": {
     "languageId": "plaintext"
    }
   },
   "outputs": [],
   "source": [
    "# Check null values in each column\n",
    "print(\"Null values in each column:\")\n",
    "print(df.isnull().sum())\n",
    "\n",
    "# Check if any null exists in the dataset\n",
    "print(\"\\nAny null values in dataset?\")\n",
    "print(df.isnull().any().any())"
   ]
  },
  {
   "cell_type": "code",
   "execution_count": null,
   "id": "9546b84f",
   "metadata": {
    "vscode": {
     "languageId": "plaintext"
    }
   },
   "outputs": [],
   "source": [
    "# Rows containing at least one null\n",
    "print(\"Rows with missing values:\")\n",
    "print(df[df.isnull().any(axis=1)])"
   ]
  },
  {
   "cell_type": "code",
   "execution_count": null,
   "id": "59216db1",
   "metadata": {
    "vscode": {
     "languageId": "plaintext"
    }
   },
   "outputs": [],
   "source": [
    "# iloc - by position\n",
    "print(df.iloc[2])        # Third row\n",
    "print(df.iloc[1:4, 0:2]) # Rows 1-3, first 2 columns\n",
    "\n",
    "# loc - by labels (use exact column names!)\n",
    "df.columns = df.columns.str.replace(\" \", \"_\")  # Standardize\n",
    "print(df.loc[:3, [\"Age\", \"Avg_Daily_Screen_Time_hr\"]])\n",
    "\n",
    "# Column slicing\n",
    "print(df[\"Age\"][:3])"
   ]
  },
  {
   "cell_type": "code",
   "execution_count": null,
   "id": "cbdb6ad1",
   "metadata": {
    "vscode": {
     "languageId": "plaintext"
    }
   },
   "outputs": [],
   "source": [
    "# Single column slice\n",
    "print(df[\"Age\"][:3])\n",
    "\n",
    "# Multiple columns slice using loc\n",
    "print(df.loc[:3, [\"Age\", \"Gender\"]])"
   ]
  },
  {
   "cell_type": "code",
   "execution_count": null,
   "id": "93f500d0",
   "metadata": {
    "vscode": {
     "languageId": "plaintext"
    }
   },
   "outputs": [],
   "source": [
    "# Kids with more than 5 hours screen time\n",
    "high_screen_time = df[df[\"Avg_Daily_Screen_Time_hr\"] > 5]\n",
    "print(high_screen_time)"
   ]
  },
  {
   "cell_type": "code",
   "execution_count": null,
   "id": "200963a5",
   "metadata": {
    "vscode": {
     "languageId": "plaintext"
    }
   },
   "outputs": [],
   "source": [
    "df['Gender'] = df['Gender'].astype('category')\n",
    "df['Urban_or_Rural'] = df['Urban_or_Rural'].astype('category')\n",
    "print(df.dtypes)"
   ]
  },
  {
   "cell_type": "code",
   "execution_count": null,
   "id": "9c6b406f",
   "metadata": {
    "vscode": {
     "languageId": "plaintext"
    }
   },
   "outputs": [],
   "source": [
    "print(df['Gender'].cat.categories)\n",
    "print(df['Urban_or_Rural'].cat.categories)"
   ]
  },
  {
   "cell_type": "code",
   "execution_count": null,
   "id": "a90ae004",
   "metadata": {
    "vscode": {
     "languageId": "plaintext"
    }
   },
   "outputs": [],
   "source": [
    "import matplotlib.pyplot as plt\n",
    "import seaborn as sns\n",
    "\n",
    "plt.figure(figsize=(6,4))\n",
    "sns.histplot(df['Avg_Daily_Screen_Time_hr'], kde=True, color=\"brown\")\n",
    "plt.title(\"distribution of screen time in hours\")\n",
    "plt.show()"
   ]
  },
  {
   "cell_type": "code",
   "execution_count": null,
   "id": "91701f42",
   "metadata": {
    "vscode": {
     "languageId": "plaintext"
    }
   },
   "outputs": [],
   "source": [
    "!pip install seaborn matplotlib"
   ]
  },
  {
   "cell_type": "code",
   "execution_count": null,
   "id": "9e73b916",
   "metadata": {
    "vscode": {
     "languageId": "plaintext"
    }
   },
   "outputs": [],
   "source": [
    "#Countplot for gender\n",
    "plt.figure(figsize=(6,4))\n",
    "sns.countplot(data=df, x='Gender')\n",
    "plt.title('Count of Kids by Gender')\n",
    "plt.xlabel('Gender')\n",
    "plt.ylabel('Count')\n",
    "plt.show()"
   ]
  },
  {
   "cell_type": "code",
   "execution_count": null,
   "id": "88ad6c2d",
   "metadata": {
    "vscode": {
     "languageId": "plaintext"
    }
   },
   "outputs": [],
   "source": [
    "import seaborn as sns\n",
    "import matplotlib.pyplot as plt\n",
    "\n",
    "# ✅ Gender Countplot\n",
    "plt.figure(figsize=(6,4))\n",
    "sns.countplot(x='Gender', data=df, palette='Set2')\n",
    "plt.title(\"Gender Count\")\n",
    "plt.show()\n",
    "\n",
    "# ✅ Location Countplot\n",
    "plt.figure(figsize=(8,5))\n",
    "sns.countplot(x='Urban_or_Rural', data=df, palette='Set3')\n",
    "plt.title(\"Location Count\")\n",
    "plt.xticks(rotation=45)  # rotate labels if they are long\n",
    "plt.show()"
   ]
  },
  {
   "cell_type": "code",
   "execution_count": null,
   "id": "afe20341",
   "metadata": {
    "vscode": {
     "languageId": "plaintext"
    }
   },
   "outputs": [],
   "source": [
    "#countplot for device type\n",
    "plt.figure(figsize=(8,4))\n",
    "sns.countplot(data=df, x='Primary_Device')\n",
    "plt.title('Count of Kids by Device Type')\n",
    "plt.xlabel('Device Type')\n",
    "plt.ylabel('Count')\n",
    "plt.xticks(rotation=45)  # Rotate labels if they overlap\n",
    "plt.show()"
   ]
  },
  {
   "cell_type": "code",
   "execution_count": null,
   "id": "809244d6",
   "metadata": {
    "vscode": {
     "languageId": "plaintext"
    }
   },
   "outputs": [],
   "source": [
    "# 🎻 Violin plot for Screen Time by Gender with custom colors\n",
    "plt.figure(figsize=(6,4))\n",
    "sns.violinplot(\n",
    "    data=df,\n",
    "    x='Gender',\n",
    "    y='Avg_Daily_Screen_Time_hr',\n",
    "    palette=[\"#1f77b4\", \"#ff7f0e\"]  # blue, orange\n",
    ")\n",
    "plt.title('Daily Screen Time Distribution by Gender')\n",
    "plt.xlabel('Gender')\n",
    "plt.ylabel('Avg Daily Screen Time (hrs)')\n",
    "plt.show()"
   ]
  },
  {
   "cell_type": "code",
   "execution_count": null,
   "id": "453a0497",
   "metadata": {
    "vscode": {
     "languageId": "plaintext"
    }
   },
   "outputs": [],
   "source": [
    "#Violin plot for Screen Time by Age\n",
    "plt.figure(figsize=(12,6))\n",
    "sns.violinplot(\n",
    "    data=df,\n",
    "    x='Age',\n",
    "    y='Avg_Daily_Screen_Time_hr',\n",
    "    palette=\"coolwarm\",   # change palette here\n",
    "    inner=\"quartile\"      # show quartile lines\n",
    ")\n",
    "plt.title('Daily Screen Time Distribution by Age', fontsize=14)\n",
    "plt.xlabel('Age')\n",
    "plt.ylabel('Avg Daily Screen Time (hrs)')\n",
    "plt.xticks(rotation=45)  # rotate if age values overlap\n",
    "plt.show()"
   ]
  },
  {
   "cell_type": "code",
   "execution_count": null,
   "id": "1d06d99f",
   "metadata": {
    "vscode": {
     "languageId": "plaintext"
    }
   },
   "outputs": [],
   "source": [
    "plt.figure(figsize=(12, 6))\n",
    "sns.boxplot(\n",
    "    x=\"Age\",\n",
    "    y=\"Avg_Daily_Screen_Time_hr\",\n",
    "    data=df,\n",
    "    palette=\"viridis\",   # 🔥 new color palette\n",
    "    notch=True,          # adds notch for median confidence interval\n",
    "    width=0.6            # narrower boxes for clarity\n",
    ")\n",
    "\n",
    "# overlay individual data points\n",
    "sns.swarmplot(\n",
    "    x=\"Age\",\n",
    "    y=\"Avg_Daily_Screen_Time_hr\",\n",
    "    data=df,\n",
    "    color=\"black\",       # points color\n",
    "    alpha=0.6,           # transparency\n",
    "    size=3\n",
    ")\n",
    "\n",
    "plt.title(\"Boxplot of Daily Screen Time by Age\", fontsize=16, fontweight='bold')\n",
    "plt.xlabel(\"Age\", fontsize=12)\n",
    "plt.ylabel(\"Average Daily Screen Time (hrs)\", fontsize=12)\n",
    "plt.xticks(rotation=45)\n",
    "plt.show()"
   ]
  },
  {
   "cell_type": "code",
   "execution_count": null,
   "id": "8fb2266c",
   "metadata": {
    "vscode": {
     "languageId": "plaintext"
    }
   },
   "outputs": [],
   "source": [
    "# Boxplot: Screen Time by Gender\n",
    "plt.figure(figsize=(8, 6))\n",
    "\n",
    "# Boxplot with new style\n",
    "sns.boxplot(\n",
    "    x=\"Gender\",\n",
    "    y=\"Avg_Daily_Screen_Time_hr\",\n",
    "    data=df,\n",
    "    palette=[\"#66c2a5\", \"#fc8d62\"],  # custom colors\n",
    "    notch=True,\n",
    "    width=0.5\n",
    ")\n",
    "\n",
    "# Overlay data points\n",
    "sns.swarmplot(\n",
    "    x=\"Gender\",\n",
    "    y=\"Avg_Daily_Screen_Time_hr\",\n",
    "    data=df,\n",
    "    color=\"black\",\n",
    "    alpha=0.6,\n",
    "    size=3\n",
    ")\n",
    "\n",
    "plt.title(\"Boxplot of Daily Screen Time by Gender\", fontsize=16, fontweight=\"bold\")\n",
    "plt.xlabel(\"Gender\", fontsize=12)\n",
    "plt.ylabel(\"Average Daily Screen Time (hrs)\", fontsize=12)\n",
    "plt.show()"
   ]
  },
  {
   "cell_type": "code",
   "execution_count": null,
   "id": "9c0c9800",
   "metadata": {
    "vscode": {
     "languageId": "plaintext"
    }
   },
   "outputs": [],
   "source": [
    "#histogram for continuos variables\n",
    "import matplotlib.pyplot as plt\n",
    "import seaborn as sns\n",
    "\n",
    "# Set style\n",
    "sns.set(style=\"whitegrid\")\n",
    "\n",
    "# Continuous variables to plot\n",
    "continuous_vars = [\"Avg_Daily_Screen_Time_hr\", \"Age\"]\n",
    "\n",
    "for col in continuous_vars:\n",
    "    plt.figure(figsize=(8,5))\n",
    "    sns.histplot(df[col], kde=True, bins=20, color=\"#69b3a2\", alpha=0.6)\n",
    "    plt.title(f\"Histogram & KDE of {col}\", fontsize=14)\n",
    "    plt.xlabel(col)\n",
    "    plt.ylabel(\"Frequency\")\n",
    "    plt.show()"
   ]
  },
  {
   "cell_type": "code",
   "execution_count": null,
   "id": "21218892",
   "metadata": {
    "vscode": {
     "languageId": "plaintext"
    }
   },
   "outputs": [],
   "source": [
    "#KDE plots\n",
    "for col in continuous_vars:\n",
    "    plt.figure(figsize=(8,5))\n",
    "    sns.kdeplot(data=df, x=col, hue=\"Gender\", fill=True, alpha=0.5)\n",
    "    plt.title(f\"KDE of {col} by Gender\", fontsize=14)\n",
    "    plt.xlabel(col)\n",
    "    plt.ylabel(\"Density\")\n",
    "    plt.show()"
   ]
  },
  {
   "cell_type": "code",
   "execution_count": null,
   "id": "f9a66f6b",
   "metadata": {
    "vscode": {
     "languageId": "plaintext"
    }
   },
   "outputs": [],
   "source": [
    "plt.figure(figsize=(8,6))\n",
    "sns.scatterplot(data=df, x='Age', y='Avg_Daily_Screen_Time_hr', hue='Gender', s=90)\n",
    "plt.title(\"Scatterplot: Age vs Average Daily Screen Time\", fontsize=14)\n",
    "plt.xlabel(\"Age (years)\")\n",
    "plt.ylabel(\"Average Daily Screen Time (hours)\")\n",
    "plt.grid(True)\n",
    "plt.show()"
   ]
  },
  {
   "cell_type": "code",
   "execution_count": null,
   "id": "da489c7e",
   "metadata": {
    "vscode": {
     "languageId": "plaintext"
    }
   },
   "outputs": [],
   "source": []
  }
 ],
 "metadata": {
  "language_info": {
   "name": "python"
  }
 },
 "nbformat": 4,
 "nbformat_minor": 5
}
